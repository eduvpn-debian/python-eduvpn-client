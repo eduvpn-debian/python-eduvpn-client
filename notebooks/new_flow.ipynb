{
 "cells": [
  {
   "cell_type": "code",
   "execution_count": 1,
   "metadata": {},
   "outputs": [],
   "source": [
    "import sys\n",
    "import os \n",
    "from pathlib import Path\n",
    "import requests\n",
    "import socket\n",
    "import pandas as pd\n",
    "import webbrowser\n",
    "from requests_oauthlib import OAuth2Session\n",
    "import gi\n",
    "import tempfile\n",
    "gi.require_version('NM', '1.0')\n",
    "from gi.repository import GLib, NM"
   ]
  },
  {
   "cell_type": "code",
   "execution_count": 2,
   "metadata": {},
   "outputs": [],
   "source": [
    "sys.path.append(str(Path().absolute().parent))"
   ]
  },
  {
   "cell_type": "code",
   "execution_count": 3,
   "metadata": {},
   "outputs": [],
   "source": [
    "from eduvpn.oauth2 import one_request, get_open_port\n",
    "from eduvpn.crypto import gen_code_challenge, gen_code_verifier, common_name_from_cert"
   ]
  },
  {
   "cell_type": "markdown",
   "metadata": {},
   "source": [
    "# Settings"
   ]
  },
  {
   "cell_type": "code",
   "execution_count": 4,
   "metadata": {},
   "outputs": [],
   "source": [
    "disco_base_url = 'https://disco.eduvpn.org/v2/'\n",
    "organisation = 'SURFnet bv'\n",
    "server = 'Demo'"
   ]
  },
  {
   "cell_type": "code",
   "execution_count": 5,
   "metadata": {},
   "outputs": [],
   "source": [
    "client_id = \"org.eduvpn.app.linux\"\n",
    "scope = [\"config\"]\n",
    "code_challenge_method = \"S256\""
   ]
  },
  {
   "cell_type": "markdown",
   "metadata": {},
   "source": [
    "# Utils"
   ]
  },
  {
   "cell_type": "code",
   "execution_count": 51,
   "metadata": {},
   "outputs": [],
   "source": [
    "def pandas_expand(df: pd.DataFrame, column: str):\n",
    "    expanded = pd.DataFrame(list(df[column])).add_prefix(column + '_')\n",
    "    return pd.concat([expanded, df.drop(columns=column)], axis=1)"
   ]
  },
  {
   "cell_type": "markdown",
   "metadata": {},
   "source": [
    "# organisation list"
   ]
  },
  {
   "cell_type": "code",
   "execution_count": 47,
   "metadata": {},
   "outputs": [],
   "source": [
    "org_list_url = disco_base_url  + \"organization_list.json\"\n",
    "org_list_response = requests.get(org_list_url)"
   ]
  },
  {
   "cell_type": "code",
   "execution_count": 48,
   "metadata": {},
   "outputs": [],
   "source": [
    "organization_list = pd.DataFrame(org_list_response.json()['organization_list'])"
   ]
  },
  {
   "cell_type": "code",
   "execution_count": 49,
   "metadata": {},
   "outputs": [
    {
     "data": {
      "text/html": [
       "<div>\n",
       "<style scoped>\n",
       "    .dataframe tbody tr th:only-of-type {\n",
       "        vertical-align: middle;\n",
       "    }\n",
       "\n",
       "    .dataframe tbody tr th {\n",
       "        vertical-align: top;\n",
       "    }\n",
       "\n",
       "    .dataframe thead th {\n",
       "        text-align: right;\n",
       "    }\n",
       "</style>\n",
       "<table border=\"1\" class=\"dataframe\">\n",
       "  <thead>\n",
       "    <tr style=\"text-align: right;\">\n",
       "      <th></th>\n",
       "      <th>display_name</th>\n",
       "      <th>org_id</th>\n",
       "      <th>server_list</th>\n",
       "      <th>keyword_list</th>\n",
       "    </tr>\n",
       "  </thead>\n",
       "  <tbody>\n",
       "    <tr>\n",
       "      <th>0</th>\n",
       "      <td>{'da': 'International Business College [TEST]'...</td>\n",
       "      <td>https://wayf.ibc.dk/simplesaml/saml2/idp/metad...</td>\n",
       "      <td>aHR0cHM6Ly93YXlmLmliYy5kay9zaW1wbGVzYW1sL3NhbW...</td>\n",
       "      <td>NaN</td>\n",
       "    </tr>\n",
       "    <tr>\n",
       "      <th>1</th>\n",
       "      <td>{'da': 'Erhvervsakademi Aarhus', 'en': 'Busine...</td>\n",
       "      <td>http://adfs.eaaa.dk/adfs/services/trust</td>\n",
       "      <td>aHR0cDovL2FkZnMuZWFhYS5kay9hZGZzL3NlcnZpY2VzL3...</td>\n",
       "      <td>NaN</td>\n",
       "    </tr>\n",
       "    <tr>\n",
       "      <th>2</th>\n",
       "      <td>{'da': 'KMD DSPARE3', 'en': 'KMD DSPARE3'}</td>\n",
       "      <td>http://dans-support-04.dans-idp-dev01.northeur...</td>\n",
       "      <td>aHR0cDovL2RhbnMtc3VwcG9ydC0wNC5kYW5zLWlkcC1kZX...</td>\n",
       "      <td>NaN</td>\n",
       "    </tr>\n",
       "    <tr>\n",
       "      <th>3</th>\n",
       "      <td>{'da': 'KMD DSUP_PATCH1', 'en': 'KMD DSUP_PATC...</td>\n",
       "      <td>https://dans-idp.kmd.dk:7080</td>\n",
       "      <td>aHR0cHM6Ly9kYW5zLWlkcC5rbWQuZGs6NzA4MA.json</td>\n",
       "      <td>NaN</td>\n",
       "    </tr>\n",
       "    <tr>\n",
       "      <th>4</th>\n",
       "      <td>{'da': 'IT-Supportcentret (ITS) [ADFS]', 'en':...</td>\n",
       "      <td>http://fs4.supportcenter.dk/adfs/services/trust</td>\n",
       "      <td>aHR0cDovL2ZzNC5zdXBwb3J0Y2VudGVyLmRrL2FkZnMvc2...</td>\n",
       "      <td>NaN</td>\n",
       "    </tr>\n",
       "  </tbody>\n",
       "</table>\n",
       "</div>"
      ],
      "text/plain": [
       "                                        display_name  \\\n",
       "0  {'da': 'International Business College [TEST]'...   \n",
       "1  {'da': 'Erhvervsakademi Aarhus', 'en': 'Busine...   \n",
       "2         {'da': 'KMD DSPARE3', 'en': 'KMD DSPARE3'}   \n",
       "3  {'da': 'KMD DSUP_PATCH1', 'en': 'KMD DSUP_PATC...   \n",
       "4  {'da': 'IT-Supportcentret (ITS) [ADFS]', 'en':...   \n",
       "\n",
       "                                              org_id  \\\n",
       "0  https://wayf.ibc.dk/simplesaml/saml2/idp/metad...   \n",
       "1            http://adfs.eaaa.dk/adfs/services/trust   \n",
       "2  http://dans-support-04.dans-idp-dev01.northeur...   \n",
       "3                       https://dans-idp.kmd.dk:7080   \n",
       "4    http://fs4.supportcenter.dk/adfs/services/trust   \n",
       "\n",
       "                                         server_list keyword_list  \n",
       "0  aHR0cHM6Ly93YXlmLmliYy5kay9zaW1wbGVzYW1sL3NhbW...          NaN  \n",
       "1  aHR0cDovL2FkZnMuZWFhYS5kay9hZGZzL3NlcnZpY2VzL3...          NaN  \n",
       "2  aHR0cDovL2RhbnMtc3VwcG9ydC0wNC5kYW5zLWlkcC1kZX...          NaN  \n",
       "3        aHR0cHM6Ly9kYW5zLWlkcC5rbWQuZGs6NzA4MA.json          NaN  \n",
       "4  aHR0cDovL2ZzNC5zdXBwb3J0Y2VudGVyLmRrL2FkZnMvc2...          NaN  "
      ]
     },
     "execution_count": 49,
     "metadata": {},
     "output_type": "execute_result"
    }
   ],
   "source": [
    "organization_list[:5]"
   ]
  },
  {
   "cell_type": "code",
   "execution_count": 52,
   "metadata": {},
   "outputs": [],
   "source": [
    "org_list_expanded = pandas_expand(organization_list, 'display_name')"
   ]
  },
  {
   "cell_type": "code",
   "execution_count": 53,
   "metadata": {},
   "outputs": [],
   "source": [
    "surfnet = org_list_expanded[org_list_expanded['display_name_en'] == organisation]\n",
    "server_list_url = disco_base_url + surfnet['server_list'].iloc[0]"
   ]
  },
  {
   "cell_type": "code",
   "execution_count": 54,
   "metadata": {},
   "outputs": [],
   "source": [
    "server_list_response = requests.get(server_list_url)"
   ]
  },
  {
   "cell_type": "code",
   "execution_count": 56,
   "metadata": {},
   "outputs": [],
   "source": [
    "server_list = pd.DataFrame(server_list_response.json()['server_list'])\n",
    "server_list_exp = pandas_expand(server_list, 'display_name')"
   ]
  },
  {
   "cell_type": "code",
   "execution_count": 57,
   "metadata": {},
   "outputs": [
    {
     "data": {
      "text/html": [
       "<div>\n",
       "<style scoped>\n",
       "    .dataframe tbody tr th:only-of-type {\n",
       "        vertical-align: middle;\n",
       "    }\n",
       "\n",
       "    .dataframe tbody tr th {\n",
       "        vertical-align: top;\n",
       "    }\n",
       "\n",
       "    .dataframe thead th {\n",
       "        text-align: right;\n",
       "    }\n",
       "</style>\n",
       "<table border=\"1\" class=\"dataframe\">\n",
       "  <thead>\n",
       "    <tr style=\"text-align: right;\">\n",
       "      <th></th>\n",
       "      <th>display_name_da-DK</th>\n",
       "      <th>display_name_en-US</th>\n",
       "      <th>display_name_nb-NO</th>\n",
       "      <th>display_name_nl-NL</th>\n",
       "      <th>display_name_en</th>\n",
       "      <th>base_url</th>\n",
       "      <th>peer_list</th>\n",
       "    </tr>\n",
       "  </thead>\n",
       "  <tbody>\n",
       "    <tr>\n",
       "      <th>0</th>\n",
       "      <td>Holland</td>\n",
       "      <td>The Netherlands</td>\n",
       "      <td>Nederland</td>\n",
       "      <td>Nederland</td>\n",
       "      <td>NaN</td>\n",
       "      <td>https://nl.eduvpn.org/</td>\n",
       "      <td>[{'base_url': 'https://eduvpn.rash.al/', 'disp...</td>\n",
       "    </tr>\n",
       "    <tr>\n",
       "      <th>1</th>\n",
       "      <td>NaN</td>\n",
       "      <td>NaN</td>\n",
       "      <td>NaN</td>\n",
       "      <td>NaN</td>\n",
       "      <td>Demo</td>\n",
       "      <td>https://demo.eduvpn.nl/</td>\n",
       "      <td>NaN</td>\n",
       "    </tr>\n",
       "    <tr>\n",
       "      <th>2</th>\n",
       "      <td>NaN</td>\n",
       "      <td>NaN</td>\n",
       "      <td>NaN</td>\n",
       "      <td>NaN</td>\n",
       "      <td>SURFnet</td>\n",
       "      <td>https://surfnet.eduvpn.nl/</td>\n",
       "      <td>NaN</td>\n",
       "    </tr>\n",
       "  </tbody>\n",
       "</table>\n",
       "</div>"
      ],
      "text/plain": [
       "  display_name_da-DK display_name_en-US display_name_nb-NO display_name_nl-NL  \\\n",
       "0            Holland    The Netherlands          Nederland          Nederland   \n",
       "1                NaN                NaN                NaN                NaN   \n",
       "2                NaN                NaN                NaN                NaN   \n",
       "\n",
       "  display_name_en                    base_url  \\\n",
       "0             NaN      https://nl.eduvpn.org/   \n",
       "1            Demo     https://demo.eduvpn.nl/   \n",
       "2         SURFnet  https://surfnet.eduvpn.nl/   \n",
       "\n",
       "                                           peer_list  \n",
       "0  [{'base_url': 'https://eduvpn.rash.al/', 'disp...  \n",
       "1                                                NaN  \n",
       "2                                                NaN  "
      ]
     },
     "execution_count": 57,
     "metadata": {},
     "output_type": "execute_result"
    }
   ],
   "source": [
    "server_list_exp"
   ]
  },
  {
   "cell_type": "code",
   "execution_count": 58,
   "metadata": {},
   "outputs": [],
   "source": [
    "demo_server = server_list_exp[server_list_exp['display_name_en'] == 'Demo']"
   ]
  },
  {
   "cell_type": "code",
   "execution_count": 59,
   "metadata": {},
   "outputs": [],
   "source": [
    "demo_base_url = demo_server['base_url'].iloc[0]"
   ]
  },
  {
   "cell_type": "code",
   "execution_count": 61,
   "metadata": {},
   "outputs": [],
   "source": [
    "info_url = demo_base_url + 'info.json'"
   ]
  },
  {
   "cell_type": "code",
   "execution_count": 62,
   "metadata": {},
   "outputs": [],
   "source": [
    "info_response = requests.get(info_url)"
   ]
  },
  {
   "cell_type": "code",
   "execution_count": 64,
   "metadata": {},
   "outputs": [],
   "source": [
    "info = info_response.json()['api']['http://eduvpn.org/api#2']"
   ]
  },
  {
   "cell_type": "code",
   "execution_count": 65,
   "metadata": {},
   "outputs": [],
   "source": [
    "api_base_uri = info['api_base_uri']\n",
    "token_endpoint = info['token_endpoint']\n",
    "authorization_endpoint = info['authorization_endpoint']"
   ]
  },
  {
   "cell_type": "code",
   "execution_count": 66,
   "metadata": {},
   "outputs": [],
   "source": [
    "port = get_open_port()\n",
    "redirect_uri = f'http://127.0.0.1:{port}/callback'"
   ]
  },
  {
   "cell_type": "code",
   "execution_count": 67,
   "metadata": {},
   "outputs": [],
   "source": [
    "oauth = OAuth2Session(client_id, redirect_uri=redirect_uri, auto_refresh_url=token_endpoint, scope=scope)"
   ]
  },
  {
   "cell_type": "code",
   "execution_count": 68,
   "metadata": {},
   "outputs": [],
   "source": [
    "code_verifier = gen_code_verifier()\n",
    "code_challenge = gen_code_challenge(code_verifier)\n",
    "authorization_url, state = oauth.authorization_url(url=authorization_endpoint,\n",
    "                                                   code_challenge_method=code_challenge_method,\n",
    "                                                   code_challenge=code_challenge)"
   ]
  },
  {
   "cell_type": "code",
   "execution_count": 69,
   "metadata": {},
   "outputs": [
    {
     "data": {
      "text/plain": [
       "True"
      ]
     },
     "execution_count": 69,
     "metadata": {},
     "output_type": "execute_result"
    }
   ],
   "source": [
    "webbrowser.open(authorization_url)"
   ]
  },
  {
   "cell_type": "code",
   "execution_count": 70,
   "metadata": {},
   "outputs": [
    {
     "name": "stderr",
     "output_type": "stream",
     "text": [
      "127.0.0.1 - - [28/Apr/2020 17:13:15] \"GET /callback?code=eyJhbGciOiJFZERTQSIsInR5cCI6IkpXVCIsImtpZCI6IldMQTA5RWVfWHdoU0ZYalBOZ2ExT3lXRW40a1pUZ2xNR3ppR1RtRnM5MEEifQ.eyJ2Ijo1LCJ0eXBlIjoiYXV0aG9yaXphdGlvbl9jb2RlIiwiYXV0aF9rZXkiOiIyZjQ0OWMyYjY3NDRlYWNjYjBjNjBlYTI3Njg4NGE1NSIsInVzZXJfaWQiOiJodHRwczpcL1wvc2EtZ3cuc3VyZmNvbmV4dC5ubFwvYXV0aGVudGljYXRpb25cL21ldGFkYXRhIWh0dHBzOlwvXC9kZW1vLmVkdXZwbi5ubFwvc2FtbCFlMTEzN2VmNzQyYWRmODMwOGFhYjdlMGE2YjY0M2M4ZTIyY2JmM2ZiIiwiY2xpZW50X2lkIjoib3JnLmVkdXZwbi5hcHAubGludXgiLCJzY29wZSI6ImNvbmZpZyIsInJlZGlyZWN0X3VyaSI6Imh0dHA6XC9cLzEyNy4wLjAuMTo0NTcxMVwvY2FsbGJhY2siLCJjb2RlX2NoYWxsZW5nZSI6InBrM1IxOXQtX2NhUExYYWRQSW1mb0JpRlE5MmRvTjR5MDJ3cUFqQW5mZGciLCJleHBpcmVzX2F0IjoiMjAyMC0wNC0yOFQxNToxODoxNSswMDowMCJ9.m4dNW4kVvXUdLSIknXxbj2XLSHGGyV8ekcOrOs5sm9PCAF9DmSiCdcXL3dh8WWYsrQstz1DvHzqxg7Q_7078Cg&state=f3F0uAztZzDcvPU4PnkRQZ5jZMEHGc HTTP/1.1\" 200 -\n"
     ]
    }
   ],
   "source": [
    "response = one_request(port, lets_connect=False)"
   ]
  },
  {
   "cell_type": "code",
   "execution_count": 71,
   "metadata": {},
   "outputs": [],
   "source": [
    "code = response['code'][0]"
   ]
  },
  {
   "cell_type": "code",
   "execution_count": 72,
   "metadata": {},
   "outputs": [],
   "source": [
    "assert(state == response['state'][0])"
   ]
  },
  {
   "cell_type": "code",
   "execution_count": 73,
   "metadata": {},
   "outputs": [],
   "source": [
    "token = oauth.fetch_token(token_url=token_endpoint,\n",
    "                          code=code,\n",
    "                          code_verifier=code_verifier,\n",
    "                          client_id=oauth.client_id,\n",
    "                          include_client_id=True,\n",
    "                          )"
   ]
  },
  {
   "cell_type": "markdown",
   "metadata": {},
   "source": [
    "# profile list"
   ]
  },
  {
   "cell_type": "code",
   "execution_count": 74,
   "metadata": {},
   "outputs": [],
   "source": [
    "profile_list_response = oauth.get(api_base_uri + '/profile_list')"
   ]
  },
  {
   "cell_type": "code",
   "execution_count": 75,
   "metadata": {},
   "outputs": [
    {
     "data": {
      "text/plain": [
       "[{'profile_id': 'internet', 'display_name': 'internet', 'two_factor': False},\n",
       " {'profile_id': 'routes',\n",
       "  'display_name': 'No rfc1918 routes',\n",
       "  'two_factor': False}]"
      ]
     },
     "execution_count": 75,
     "metadata": {},
     "output_type": "execute_result"
    }
   ],
   "source": [
    "profile_list_response.json()['profile_list']['data']"
   ]
  },
  {
   "cell_type": "code",
   "execution_count": 76,
   "metadata": {},
   "outputs": [],
   "source": [
    "response = oauth.post(api_base_uri + '/create_keypair')\n",
    "keypair = response.json()['create_keypair']['data']\n",
    "private_key = keypair['private_key']\n",
    "certificate = keypair['certificate']\n",
    "common_name = common_name_from_cert(certificate.encode('ascii'))"
   ]
  },
  {
   "cell_type": "markdown",
   "metadata": {},
   "source": [
    "# profile config"
   ]
  },
  {
   "cell_type": "code",
   "execution_count": 77,
   "metadata": {},
   "outputs": [],
   "source": [
    "profile_id = 'internet'\n",
    "response = oauth.get(api_base_uri + f'/profile_config?profile_id={profile_id}')\n",
    "config = response.text"
   ]
  },
  {
   "cell_type": "markdown",
   "metadata": {},
   "source": [
    "# check_certificate"
   ]
  },
  {
   "cell_type": "code",
   "execution_count": 78,
   "metadata": {},
   "outputs": [],
   "source": [
    "response = oauth.get(api_base_uri + f'/check_certificate?common_name={common_name}')\n",
    "assert(response.json()['check_certificate']['data']['is_valid'])"
   ]
  },
  {
   "cell_type": "markdown",
   "metadata": {},
   "source": [
    "# system_messages"
   ]
  },
  {
   "cell_type": "code",
   "execution_count": 79,
   "metadata": {},
   "outputs": [],
   "source": [
    "response = oauth.get(api_base_uri + '/system_messages')"
   ]
  },
  {
   "cell_type": "code",
   "execution_count": 80,
   "metadata": {},
   "outputs": [
    {
     "data": {
      "text/plain": [
       "[{'type': 'notification',\n",
       "  'date_time': '2019-05-16T07:59:48Z',\n",
       "  'message': 'Welcome to the eduVPN demo server by SURFnet. If you have any questions, please let us know by mailing us on eduvpn@surfnet.nl.'}]"
      ]
     },
     "execution_count": 80,
     "metadata": {},
     "output_type": "execute_result"
    }
   ],
   "source": [
    "response.json()['system_messages']['data']"
   ]
  },
  {
   "cell_type": "markdown",
   "metadata": {},
   "source": [
    "# write networkmanager config"
   ]
  },
  {
   "cell_type": "code",
   "execution_count": 82,
   "metadata": {},
   "outputs": [],
   "source": [
    "tmp = tempfile.NamedTemporaryFile(mode='w+t')\n",
    "tmp.writelines(config)\n",
    "tmp.seek(0)\n",
    "filename = tmp.name"
   ]
  },
  {
   "cell_type": "code",
   "execution_count": 83,
   "metadata": {},
   "outputs": [
    {
     "name": "stdout",
     "output_type": "stream",
     "text": [
      "TRY:  plugin /usr/lib/NetworkManager/VPN/nm-openvpn-service.name\n"
     ]
    }
   ],
   "source": [
    "connection = None\n",
    "for vpn_info in NM.VpnPluginInfo.list_load():\n",
    "    print(\"TRY:  plugin %s\" % (vpn_info.get_filename()))\n",
    "    try:\n",
    "        vpn_plugin = vpn_info.load_editor_plugin()\n",
    "    except Exception as e:\n",
    "        print(\"SKIP: cannot load plugin: %s\" % (e))\n",
    "        continue\n",
    "    try:\n",
    "        connection = vpn_plugin.import_(filename)\n",
    "    except Exception as e:\n",
    "        print(\"SKIP: failure to import %s\" % (e))\n",
    "        continue\n",
    "    break\n",
    "\n",
    "if connection is None:\n",
    "    print(\"None of the VPN plugins was able to import \\\"%s\\\"\" % (filename))\n",
    "    sys.exit(1)"
   ]
  },
  {
   "cell_type": "code",
   "execution_count": 84,
   "metadata": {},
   "outputs": [
    {
     "name": "stdout",
     "output_type": "stream",
     "text": [
      "connection imported from \"/tmp/tmphfua3l45\" using plugin \"/usr/lib/NetworkManager/VPN/nm-openvpn-service.name\" (\"tmphfua3l45\", 8f9fbb32-e740-4796-b811-5e05d49d9a1d)\n",
      "The connection profile has been successfully added to NetworkManager.\n"
     ]
    }
   ],
   "source": [
    "connection.normalize()\n",
    "\n",
    "print(\"connection imported from \\\"%s\\\" using plugin \\\"%s\\\" (\\\"%s\\\", %s)\" % (filename, vpn_info.get_filename(), connection.get_id(), connection.get_uuid()))\n",
    "\n",
    "client = NM.Client.new(None)\n",
    "\n",
    "main_loop = GLib.MainLoop()\n",
    "\n",
    "def added_cb(client, result, data):\n",
    "    try:\n",
    "        client.add_connection_finish(result)\n",
    "        print(\"The connection profile has been successfully added to NetworkManager.\")\n",
    "    except Exception as e:\n",
    "        print(\"ERROR: failed to add connection: %s\\n\" % e)\n",
    "    main_loop.quit()\n",
    "\n",
    "client.add_connection_async(connection, True, None, added_cb, None)\n",
    "\n",
    "main_loop.run()"
   ]
  },
  {
   "cell_type": "code",
   "execution_count": null,
   "metadata": {},
   "outputs": [],
   "source": []
  }
 ],
 "metadata": {
  "kernelspec": {
   "display_name": "Python 3",
   "language": "python",
   "name": "python3"
  },
  "language_info": {
   "codemirror_mode": {
    "name": "ipython",
    "version": 3
   },
   "file_extension": ".py",
   "mimetype": "text/x-python",
   "name": "python",
   "nbconvert_exporter": "python",
   "pygments_lexer": "ipython3",
   "version": "3.8.2"
  }
 },
 "nbformat": 4,
 "nbformat_minor": 4
}
