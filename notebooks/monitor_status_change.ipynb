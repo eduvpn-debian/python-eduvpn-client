{
 "cells": [
  {
   "cell_type": "code",
   "execution_count": 1,
   "metadata": {},
   "outputs": [],
   "source": [
    "import dbus\n",
    "from dbus.mainloop.glib import DBusGMainLoop\n",
    "import gi\n",
    "gi.require_version('Gtk', '3.0')\n",
    "gi.require_version('NM', '1.0') \n",
    "from gi.repository import Gtk, NM\n",
    "import dbus.mainloop.glib"
   ]
  },
  {
   "cell_type": "code",
   "execution_count": 2,
   "metadata": {},
   "outputs": [],
   "source": [
    "dbus.mainloop.glib.DBusGMainLoop(set_as_default=True)\n",
    "bus = dbus.SystemBus()"
   ]
  },
  {
   "cell_type": "code",
   "execution_count": 3,
   "metadata": {},
   "outputs": [],
   "source": [
    "def callback(state_code, reason_code):\n",
    "    \n",
    "    state = NM.VpnConnectionState(state_code)\n",
    "    reason = NM.VpnConnectionStateReason(reason_code)\n",
    "    \n",
    "    print(f\"state: {state}, reason: {reason}\")"
   ]
  },
  {
   "cell_type": "code",
   "execution_count": 4,
   "metadata": {},
   "outputs": [],
   "source": [
    "_ = bus.add_signal_receiver(handler_function=callback,\n",
    "                        dbus_interface='org.freedesktop.NetworkManager.VPN.Connection',\n",
    "                        signal_name='VpnStateChanged')"
   ]
  },
  {
   "cell_type": "code",
   "execution_count": null,
   "metadata": {},
   "outputs": [
    {
     "name": "stdout",
     "output_type": "stream",
     "text": [
      "state: <enum NM_VPN_CONNECTION_STATE_NEED_AUTH of type NM.VpnConnectionState>, reason: <enum NM_VPN_CONNECTION_STATE_REASON_NONE of type NM.VpnConnectionStateReason>\n",
      "state: <enum NM_VPN_CONNECTION_STATE_CONNECT of type NM.VpnConnectionState>, reason: <enum NM_VPN_CONNECTION_STATE_REASON_NONE of type NM.VpnConnectionStateReason>\n",
      "state: <enum NM_VPN_CONNECTION_STATE_IP_CONFIG_GET of type NM.VpnConnectionState>, reason: <enum NM_VPN_CONNECTION_STATE_REASON_NONE of type NM.VpnConnectionStateReason>\n",
      "state: <enum NM_VPN_CONNECTION_STATE_ACTIVATED of type NM.VpnConnectionState>, reason: <enum NM_VPN_CONNECTION_STATE_REASON_NONE of type NM.VpnConnectionStateReason>\n",
      "state: <enum NM_VPN_CONNECTION_STATE_DISCONNECTED of type NM.VpnConnectionState>, reason: <enum NM_VPN_CONNECTION_STATE_REASON_USER_DISCONNECTED of type NM.VpnConnectionStateReason>\n"
     ]
    }
   ],
   "source": [
    " Gtk.main()"
   ]
  }
 ],
 "metadata": {
  "kernelspec": {
   "display_name": "Python 3",
   "language": "python",
   "name": "python3"
  },
  "language_info": {
   "codemirror_mode": {
    "name": "ipython",
    "version": 3
   },
   "file_extension": ".py",
   "mimetype": "text/x-python",
   "name": "python",
   "nbconvert_exporter": "python",
   "pygments_lexer": "ipython3",
   "version": "3.8.2"
  }
 },
 "nbformat": 4,
 "nbformat_minor": 4
}
