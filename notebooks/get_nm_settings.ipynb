{
 "cells": [
  {
   "cell_type": "code",
   "execution_count": 1,
   "metadata": {},
   "outputs": [],
   "source": [
    "from pathlib import Path\n",
    "import gi\n",
    "gi.require_version('NM', '1.0')\n",
    "from gi.repository import NM, GLib "
   ]
  },
  {
   "cell_type": "code",
   "execution_count": 2,
   "metadata": {},
   "outputs": [],
   "source": [
    "uuid = open(Path(\"~/.config/eduvpn/uuid\").expanduser(), 'r').read().strip()"
   ]
  },
  {
   "cell_type": "code",
   "execution_count": 3,
   "metadata": {},
   "outputs": [],
   "source": [
    "client = NM.Client.new()"
   ]
  },
  {
   "cell_type": "code",
   "execution_count": 4,
   "metadata": {},
   "outputs": [],
   "source": [
    "connection = client.get_connection_by_uuid(uuid)"
   ]
  },
  {
   "cell_type": "code",
   "execution_count": 5,
   "metadata": {},
   "outputs": [],
   "source": [
    "cert = connection.get_setting_vpn().get_data_item('cert')  # or ca, cert, key"
   ]
  },
  {
   "cell_type": "code",
   "execution_count": 6,
   "metadata": {},
   "outputs": [
    {
     "data": {
      "text/plain": "'-----BEGIN CERTIFICATE-----\\nMIIEHDCCAoSgAwIBAgIQU2iBu3xzLBXHJZDKHTMJyTANBgkqhkiG9w0BAQsFADAR\\nMQ8wDQYDVQQDDAZWUE4gQ0EwHhcNMjAwNzAzMTIzNjE3WhcNMjAxMDAxMTExNDM5\\nWjArMSkwJwYDVQQDEyAwNzIxM2U3NjY0Mjk4ZDZkOWIxN2MwNjhkYzljMzhlZjCC\\nAaIwDQYJKoZIhvcNAQEBBQADggGPADCCAYoCggGBALSQtl+GfLvAnitvukJxVxk2\\nhu/jnC0I5DE1MQwKLQoZhgGvVzezWA4x4Vf684z2p4mFI+DBK0f0kFWsgVeQNq0k\\nqKROwlT6eVA77WNom5R+q61scLxn/rbSRmKF58A87rbr/5RbTbjojuzTyxapT/ny\\nNocVQM1Q0gJ1o5DxWC20xWS4kH7YaMVCJfIljw2ntwFV3nqb5yb0UoUu9GsD4ir+\\npare3haLkMiXZnawj7A09byVSd8Om2QikSxsAkA1ix4pBUUVHrp8Fs0RkXVBLHDD\\nNruKUCoAK7CH011aDivNl/ocpVclJIf0W6G3f4QSWvMLVWlD1F8Z3uQj6nHt6FUh\\n2Sylz2qlk7q3qoCMgZXH03423tEgrSwiLkBsGcNvgs14k3GY54GEey+AWOo/C8Yi\\nwsGGLPjEqLxgc1b/ie3xGoHUbs6pfxEgEh4LYvp4u8BTkZD2lExqeffHC6sDg4sF\\n19KUQN2+Jzt4vUqIKxMbEuZQFcun3CkBZtvl8R92NwIDAQABo1YwVDAOBgNVHQ8B\\nAf8EBAMCB4AwEwYDVR0lBAwwCgYIKwYBBQUHAwIwDAYDVR0TAQH/BAIwADAfBgNV\\nHSMEGDAWgBSWy8+SLM+WFKCOyN97U/qYU3LguTANBgkqhkiG9w0BAQsFAAOCAYEA\\nAXzZz4dsEozmAmgmNX39xoQFXdDrGDju5VfmlghBaBzOAsgizAUlAvyZBa+um9bl\\nsnBEzCrn+k3PMR19LT550bakQBzL6HUwrRWOluxh+/jX0xuQ4X5+FozRuU60HRHy\\n9Lwr3ZuePqJ69tXeEOpSqJMPawwJr+5EJ7T6IkGvfQ2K1XcG/PaJPI3w1rYo+Kvb\\ni2WJIsjqsdrsIw1vnQ9inT4i00aCl87g2yU2SkgV5+lgHRSUXt8PIyi8ePU6D5q0\\nF09G2INKuKQLf4ooNgTTQDV+3bLIk42l6adIgZf7DvqSFZQ13iiq/qcRe8d0ZJS8\\n62b68A4peQdhJNawL8uYDmalOztg1kLvr3/bCbVnmCDjXESSBngZmWrfj6S/Zvn4\\n8LebM5YZ2BLXorDDqkBsao62OKnnPwAelouv/m6aibicIEULSp/3MYk/9esEeSdY\\nCAt5nNTTn7zesXK0/nTaMCLPKjWmmXBsaz0KpAxnUalQn4uCRXWOYIyu8hu9oc7S\\n-----END CERTIFICATE-----\\n'"
     },
     "execution_count": 6,
     "metadata": {},
     "output_type": "execute_result"
    }
   ],
   "source": [
    "open(cert).read()"
   ]
  },
  {
   "cell_type": "code",
   "execution_count": 12,
   "outputs": [],
   "source": [
    "client.activate_connection_async(connection)"
   ],
   "metadata": {
    "collapsed": false,
    "pycharm": {
     "name": "#%%\n"
    }
   }
  },
  {
   "cell_type": "code",
   "execution_count": 11,
   "outputs": [
    {
     "data": {
      "text/plain": "['__class__',\n '__copy__',\n '__deepcopy__',\n '__delattr__',\n '__dict__',\n '__dir__',\n '__doc__',\n '__eq__',\n '__format__',\n '__gdoc__',\n '__ge__',\n '__getattribute__',\n '__gpointer__',\n '__grefcount__',\n '__gsignals__',\n '__gt__',\n '__gtype__',\n '__hash__',\n '__info__',\n '__init__',\n '__init_subclass__',\n '__le__',\n '__lt__',\n '__module__',\n '__ne__',\n '__new__',\n '__reduce__',\n '__reduce_ex__',\n '__repr__',\n '__setattr__',\n '__sizeof__',\n '__str__',\n '__subclasshook__',\n '__weakref__',\n '_force_floating',\n '_ref',\n '_ref_sink',\n '_unref',\n '_unsupported_data_method',\n '_unsupported_method',\n 'activate_connection_async',\n 'activate_connection_finish',\n 'add_and_activate_connection2',\n 'add_and_activate_connection2_finish',\n 'add_and_activate_connection_async',\n 'add_and_activate_connection_finish',\n 'add_connection2',\n 'add_connection2_finish',\n 'add_connection_async',\n 'add_connection_finish',\n 'bind_property',\n 'bind_property_full',\n 'chain',\n 'check_connectivity',\n 'check_connectivity_async',\n 'check_connectivity_finish',\n 'checkpoint_adjust_rollback_timeout',\n 'checkpoint_adjust_rollback_timeout_finish',\n 'checkpoint_create',\n 'checkpoint_create_finish',\n 'checkpoint_destroy',\n 'checkpoint_destroy_finish',\n 'checkpoint_rollback',\n 'checkpoint_rollback_finish',\n 'compat_control',\n 'connect',\n 'connect_after',\n 'connect_data',\n 'connect_object',\n 'connect_object_after',\n 'connectivity_check_get_available',\n 'connectivity_check_get_enabled',\n 'connectivity_check_get_uri',\n 'connectivity_check_set_enabled',\n 'deactivate_connection',\n 'deactivate_connection_async',\n 'deactivate_connection_finish',\n 'disconnect',\n 'disconnect_by_func',\n 'emit',\n 'emit_stop_by_name',\n 'find_property',\n 'force_floating',\n 'freeze_notify',\n 'g_type_instance',\n 'get_activating_connection',\n 'get_active_connections',\n 'get_all_devices',\n 'get_capabilities',\n 'get_checkpoints',\n 'get_connection_by_id',\n 'get_connection_by_path',\n 'get_connection_by_uuid',\n 'get_connections',\n 'get_connectivity',\n 'get_context_busy_watcher',\n 'get_data',\n 'get_dbus_connection',\n 'get_dbus_name_owner',\n 'get_device_by_iface',\n 'get_device_by_path',\n 'get_devices',\n 'get_dns_configuration',\n 'get_dns_mode',\n 'get_dns_rc_manager',\n 'get_logging',\n 'get_main_context',\n 'get_metered',\n 'get_nm_running',\n 'get_permission_result',\n 'get_primary_connection',\n 'get_properties',\n 'get_property',\n 'get_qdata',\n 'get_startup',\n 'get_state',\n 'get_version',\n 'getv',\n 'handler_block',\n 'handler_block_by_func',\n 'handler_disconnect',\n 'handler_is_connected',\n 'handler_unblock',\n 'handler_unblock_by_func',\n 'init',\n 'init_async',\n 'init_finish',\n 'install_properties',\n 'install_property',\n 'interface_find_property',\n 'interface_install_property',\n 'interface_list_properties',\n 'is_floating',\n 'list_properties',\n 'load_connections',\n 'load_connections_async',\n 'load_connections_finish',\n 'networking_get_enabled',\n 'networking_set_enabled',\n 'new',\n 'new_async',\n 'new_finish',\n 'newv',\n 'newv_async',\n 'notify',\n 'notify_by_pspec',\n 'override_property',\n 'props',\n 'qdata',\n 'ref',\n 'ref_count',\n 'ref_sink',\n 'reload',\n 'reload_connections',\n 'reload_connections_async',\n 'reload_connections_finish',\n 'reload_finish',\n 'replace_data',\n 'replace_qdata',\n 'run_dispose',\n 'save_hostname',\n 'save_hostname_async',\n 'save_hostname_finish',\n 'set_data',\n 'set_logging',\n 'set_properties',\n 'set_property',\n 'steal_data',\n 'steal_qdata',\n 'stop_emission',\n 'stop_emission_by_name',\n 'thaw_notify',\n 'unref',\n 'watch_closure',\n 'weak_ref',\n 'wimax_get_enabled',\n 'wimax_hardware_get_enabled',\n 'wimax_set_enabled',\n 'wireless_get_enabled',\n 'wireless_hardware_get_enabled',\n 'wireless_set_enabled',\n 'wwan_get_enabled',\n 'wwan_hardware_get_enabled',\n 'wwan_set_enabled']"
     },
     "execution_count": 11,
     "metadata": {},
     "output_type": "execute_result"
    }
   ],
   "source": [
    "dir(client)\n",
    "\n"
   ],
   "metadata": {
    "collapsed": false,
    "pycharm": {
     "name": "#%%\n"
    }
   }
  },
  {
   "cell_type": "code",
   "execution_count": null,
   "outputs": [],
   "source": [
    "\n"
   ],
   "metadata": {
    "collapsed": false,
    "pycharm": {
     "name": "#%%\n"
    }
   }
  }
 ],
 "metadata": {
  "kernelspec": {
   "display_name": "Python 3",
   "language": "python",
   "name": "python3"
  },
  "language_info": {
   "codemirror_mode": {
    "name": "ipython",
    "version": 3
   },
   "file_extension": ".py",
   "mimetype": "text/x-python",
   "name": "python",
   "nbconvert_exporter": "python",
   "pygments_lexer": "ipython3",
   "version": "3.8.2"
  }
 },
 "nbformat": 4,
 "nbformat_minor": 4
}