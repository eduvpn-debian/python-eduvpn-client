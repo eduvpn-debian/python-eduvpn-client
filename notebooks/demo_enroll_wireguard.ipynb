{
 "cells": [
  {
   "cell_type": "code",
   "execution_count": null,
   "id": "66bcc54b",
   "metadata": {},
   "outputs": [],
   "source": [
    "# sudo apt install wireguard-tools wireguard"
   ]
  },
  {
   "cell_type": "code",
   "execution_count": null,
   "id": "28dac0d5",
   "metadata": {},
   "outputs": [],
   "source": [
    "import requests\n",
    "import sys\n",
    "from socket import AF_INET, AF_INET6\n",
    "import uuid\n",
    "import json\n",
    "from ipaddress import ip_network, ip_address\n",
    "from configparser import ConfigParser\n",
    "from pathlib import Path\n",
    "import gi\n",
    "gi.require_version('NM', '1.0')\n",
    "from gi.repository import NM, GLib"
   ]
  },
  {
   "cell_type": "code",
   "execution_count": null,
   "id": "12d7be5a",
   "metadata": {},
   "outputs": [],
   "source": [
    "sys.path.append(str(Path().absolute().parent))"
   ]
  },
  {
   "cell_type": "code",
   "execution_count": null,
   "id": "b93e600e",
   "metadata": {},
   "outputs": [],
   "source": [
    "from eduvpn.oauth2 import run_challenge\n",
    "from eduvpn.variants import EDUVPN\n",
    "from eduvpn.crypto import gen_code_verifier, gen_code_challenge"
   ]
  },
  {
   "cell_type": "code",
   "execution_count": null,
   "id": "49fb4cda",
   "metadata": {},
   "outputs": [],
   "source": [
    "nm_client = NM.Client.new(None)\n",
    "main_loop = GLib.MainLoop()"
   ]
  },
  {
   "cell_type": "code",
   "execution_count": null,
   "id": "0b20dd17",
   "metadata": {},
   "outputs": [],
   "source": [
    "code_challenge_method = \"S256\""
   ]
  },
  {
   "cell_type": "code",
   "execution_count": null,
   "id": "cdfa4cca",
   "metadata": {},
   "outputs": [],
   "source": [
    "info_base_url = 'https://vpn-next.tuxed.net/'\n",
    "info_url = info_base_url + '/.well-known/vpn-user-portal'\n",
    "info = requests.get(info_url).json()['api']['http://eduvpn.org/api#3']"
   ]
  },
  {
   "cell_type": "code",
   "execution_count": null,
   "id": "6e9f3832",
   "metadata": {},
   "outputs": [],
   "source": [
    "api_endpoint = info['api_endpoint']\n",
    "token_endpoint = info['token_endpoint']\n",
    "authorization_endpoint = info['authorization_endpoint']\n",
    "api_endpoint"
   ]
  },
  {
   "cell_type": "code",
   "execution_count": null,
   "id": "1cceafe4",
   "metadata": {},
   "outputs": [],
   "source": [
    "oauth = run_challenge(\n",
    "        token_endpoint=token_endpoint,\n",
    "        authorization_endpoint=authorization_endpoint,\n",
    "        app_variant=EDUVPN,\n",
    "    )"
   ]
  },
  {
   "cell_type": "code",
   "execution_count": null,
   "id": "0149c67c",
   "metadata": {},
   "outputs": [],
   "source": [
    "info = oauth.get(api_endpoint + '/info').json()['info']"
   ]
  },
  {
   "cell_type": "code",
   "execution_count": null,
   "id": "aa245f6e",
   "metadata": {},
   "outputs": [],
   "source": [
    "profile_list = info['profile_list']"
   ]
  },
  {
   "cell_type": "code",
   "execution_count": null,
   "id": "0ea4235b",
   "metadata": {},
   "outputs": [],
   "source": [
    "profile_list"
   ]
  },
  {
   "cell_type": "code",
   "execution_count": null,
   "id": "0006a4d6",
   "metadata": {},
   "outputs": [],
   "source": [
    "key = !wg genkey\n",
    "key"
   ]
  },
  {
   "cell_type": "code",
   "execution_count": null,
   "id": "e760f946",
   "metadata": {},
   "outputs": [],
   "source": [
    "public_key = ! echo \"{key[0]}\" | wg pubkey\n",
    "public_key"
   ]
  },
  {
   "cell_type": "code",
   "execution_count": null,
   "id": "17d0cb87",
   "metadata": {},
   "outputs": [],
   "source": [
    "connect = oauth.post(api_endpoint + '/connect', data={'profile_id': 'default-wg', 'public_key': public_key[0]})"
   ]
  },
  {
   "cell_type": "code",
   "execution_count": null,
   "id": "3754ff0c",
   "metadata": {},
   "outputs": [],
   "source": [
    "assert(connect.status_code == 200)\n",
    "assert(connect.headers['Content-Type'] == 'application/x-wireguard-profile')"
   ]
  },
  {
   "cell_type": "code",
   "execution_count": null,
   "id": "1187bb27",
   "metadata": {
    "scrolled": true
   },
   "outputs": [],
   "source": [
    "wireguard_config = connect.content.decode()\n",
    "print(wireguard_config)"
   ]
  },
  {
   "cell_type": "code",
   "execution_count": null,
   "id": "c0157c3d",
   "metadata": {},
   "outputs": [],
   "source": [
    "config = ConfigParser()\n",
    "config.read_string(wireguard_config)"
   ]
  },
  {
   "cell_type": "code",
   "execution_count": null,
   "id": "7b474d2f",
   "metadata": {},
   "outputs": [],
   "source": [
    "def disconnect():\n",
    "    disconnect = oauth.post(api_endpoint + '/disconnect', data={'profile_id': 'default-wg'})\n",
    "    assert(disconnect.status_code == 204 )"
   ]
  },
  {
   "cell_type": "code",
   "execution_count": null,
   "id": "fc443142",
   "metadata": {},
   "outputs": [],
   "source": [
    "ipv4s = []\n",
    "ipv6s = []\n",
    "for ip in config['Interface']['Address'].split(','):\n",
    "    parsed = ip_network(ip.strip(), strict=False)\n",
    "    if parsed.version == 4:\n",
    "        ipv4s.append(NM.IPAddress(AF_INET, str(parsed.network_address), parsed.prefixlen))\n",
    "    elif parsed.version == 6:\n",
    "        ipv6s.append(NM.IPAddress(AF_INET6, str(parsed.network_address), parsed.prefixlen))"
   ]
  },
  {
   "cell_type": "code",
   "execution_count": null,
   "id": "e6b66cbb",
   "metadata": {},
   "outputs": [],
   "source": [
    "dns4 = []\n",
    "dns6 = []\n",
    "for ip in config['Interface']['DNS'].split(','):\n",
    "    parsed = ip_address(ip.strip())\n",
    "    if parsed.version == 4:\n",
    "        dns4.append(str(parsed))\n",
    "    elif parsed.version == 6:\n",
    "        dns6.append(str(parsed))"
   ]
  },
  {
   "cell_type": "code",
   "execution_count": null,
   "id": "80a315b1",
   "metadata": {},
   "outputs": [],
   "source": [
    "profile = NM.SimpleConnection.new()\n",
    "s_con = NM.SettingConnection.new()\n",
    "s_con.set_property(NM.SETTING_CONNECTION_ID, \"wireguard\")\n",
    "s_con.set_property(NM.SETTING_CONNECTION_TYPE, \"wireguard\")\n",
    "s_con.set_property(NM.SETTING_CONNECTION_UUID, str(uuid.uuid4()))\n",
    "s_con.set_property(NM.SETTING_CONNECTION_INTERFACE_NAME, \"wireguard\")\n",
    "\n",
    "# https://lazka.github.io/pgi-docs/NM-1.0/classes/WireGuardPeer.html#NM.WireGuardPeer\n",
    "peer = NM.WireGuardPeer.new()\n",
    "peer.set_endpoint(config['Peer']['Endpoint'], allow_invalid=False)\n",
    "peer.set_public_key(config['Peer']['PublicKey'], accept_invalid=False)\n",
    "for ip in config['Peer']['AllowedIPs'].split(','):\n",
    "    peer.append_allowed_ip(ip.strip(), accept_invalid=False)\n",
    " \n",
    "\n",
    "s_ip4 = NM.SettingIP4Config.new()\n",
    "s_ip6 = NM.SettingIP6Config.new()\n",
    "\n",
    "for i in dns4:\n",
    "    s_ip4.add_dns(i)\n",
    "\n",
    "for i in dns6:\n",
    "    s_ip6.add_dns(i)\n",
    "\n",
    "s_ip4.set_property(NM.SETTING_IP_CONFIG_METHOD, \"manual\")\n",
    "s_ip6.set_property(NM.SETTING_IP_CONFIG_METHOD, \"manual\")\n",
    "\n",
    "for i in ipv4s:\n",
    "    s_ip4.add_address(i)\n",
    "\n",
    "\n",
    "\n",
    "for i in ipv6s:\n",
    "    s_ip6.add_address(i)\n",
    "\n",
    "\n",
    "# https://lazka.github.io/pgi-docs/NM-1.0/classes/SettingWireGuard.html\n",
    "w_con = NM.SettingWireGuard.new()\n",
    "w_con.append_peer(peer)\n",
    "w_con.set_property(NM.SETTING_WIREGUARD_PRIVATE_KEY, key[0])\n",
    "\n",
    "profile.add_setting(s_ip4)\n",
    "profile.add_setting(s_ip6)\n",
    "profile.add_setting(s_con)\n",
    "profile.add_setting(w_con)\n",
    "\n",
    "persistent = False"
   ]
  },
  {
   "cell_type": "code",
   "execution_count": null,
   "id": "807cae7c",
   "metadata": {},
   "outputs": [],
   "source": [
    "def print_values(setting, key, value, flags, data):\n",
    "    print(\"  %s.%s: %s\" % (setting.get_name(), key, value))\n",
    "profile.for_each_setting_value(print_values, None)"
   ]
  },
  {
   "cell_type": "code",
   "execution_count": null,
   "id": "01e4996e",
   "metadata": {},
   "outputs": [],
   "source": [
    "def added_cb(client, result, data):\n",
    "    try:\n",
    "        client.add_connection_finish(result)\n",
    "        print(\"The connection profile has been successfully added to NetworkManager.\")\n",
    "    except Exception as e:\n",
    "        sys.stderr.write(\"Error: %s\\n\" % e)\n",
    "    main_loop.quit()\n",
    "nm_client.add_connection_async(profile, persistent, None, added_cb, None)    \n",
    "main_loop.run()"
   ]
  },
  {
   "cell_type": "code",
   "execution_count": null,
   "id": "52e76376",
   "metadata": {},
   "outputs": [],
   "source": [
    "# get the connection object\n",
    "connection = [i for i in nm_client.get_connections() if i.get_id() == 'wireguard'][0]"
   ]
  },
  {
   "cell_type": "code",
   "execution_count": null,
   "id": "6851d699",
   "metadata": {},
   "outputs": [],
   "source": [
    "def connected_cb(client, result, data):\n",
    "    try:\n",
    "        print(\"connected\")\n",
    "        nm_client.activate_connection_finish(result)\n",
    "    except Exception as e:\n",
    "        sys.stderr.write(\"Error: %s\\n\" % e)\n",
    "    main_loop.quit()\n",
    "nm_client.activate_connection_async(connection, None, None, None, connected_cb, \"bla\")    \n",
    "main_loop.run()"
   ]
  }
 ],
 "metadata": {
  "kernelspec": {
   "display_name": "Python 3 (ipykernel)",
   "language": "python",
   "name": "python3"
  },
  "language_info": {
   "codemirror_mode": {
    "name": "ipython",
    "version": 3
   },
   "file_extension": ".py",
   "mimetype": "text/x-python",
   "name": "python",
   "nbconvert_exporter": "python",
   "pygments_lexer": "ipython3",
   "version": "3.8.10"
  }
 },
 "nbformat": 4,
 "nbformat_minor": 5
}
